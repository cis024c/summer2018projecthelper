{
 "cells": [
  {
   "cell_type": "markdown",
   "metadata": {},
   "source": [
    "# Similarity/Spell-Checker"
   ]
  },
  {
   "cell_type": "markdown",
   "metadata": {},
   "source": [
    "Create a Python module using the similarity function. Write a Python program to invoke the similarity function on any word entered by the user."
   ]
  },
  {
   "cell_type": "code",
   "execution_count": 1,
   "metadata": {
    "collapsed": true
   },
   "outputs": [],
   "source": [
    "def similarity(inputWord,wordCorpus):\n",
    "    \n",
    "    # get list of words that share the relatively same size +/- 1 letter\n",
    "    \n",
    "    if len(inputWord) == 0:\n",
    "        print \"Please provide a valid word\"\n",
    "        return \"INVALID_ENTRY\"\n",
    "    \n",
    "    lowerWordLen = len(inputWord) - 1\n",
    "    upperWordLen = len(inputWord) + 1\n",
    "    \n",
    "    # get the list of candidate words\n",
    "    candidateWords = []\n",
    "    \n",
    "    for entry in wordCorpus:\n",
    "        \n",
    "        if len(entry) >= lowerWordLen and len(entry) <= upperWordLen:\n",
    "            candidateWords.append(entry)\n",
    "            \n",
    "    # perform similarity comparison\n",
    "    firstTime = True\n",
    "    bestMatchCount = None\n",
    "    bestMatchWord = None\n",
    "    \n",
    "    print \"Input word:\",inputWord\n",
    "    for entry in candidateWords:\n",
    "        matchCount = 0\n",
    "        for l1 in entry:\n",
    "            #print \"letter:\",l1\n",
    "            if l1 in inputWord:\n",
    "                matchCount += 1\n",
    "                \n",
    "        if firstTime == True:\n",
    "            bestMatchCount = matchCount\n",
    "            bestMatchWord = entry\n",
    "            firstTime = False\n",
    "        else:\n",
    "            if matchCount > bestMatchCount:\n",
    "                bestMatchCount = matchCount\n",
    "                bestMatchWord = entry\n",
    "                \n",
    "    # display the best match\n",
    "    print \"Best Match Is:\", bestMatchWord"
   ]
  },
  {
   "cell_type": "code",
   "execution_count": null,
   "metadata": {
    "collapsed": true
   },
   "outputs": [],
   "source": [
    "%%writefile similarity.py\n",
    "\n",
    "import similarity\n",
    "\n",
    "# take all words from alice and store them in memory\n",
    "\n",
    "aliceFile = open(\"aliceText.txt\")\n",
    "\n",
    "wordCorpus = []\n",
    "\n",
    "for line in aliceFile:\n",
    "    \n",
    "    # remove newlines\n",
    "    line = line.strip().lower()\n",
    "    \n",
    "    # get words\n",
    "    words = line.split(\" \")\n",
    "    \n",
    "    for word in words:\n",
    "        if word.isalnum():\n",
    "            if word not in wordCorpus:\n",
    "                wordCorpus.append(word)\n",
    "                \n",
    "print similarity.similarity(\"rabbi\",wordCorpus)"
   ]
  },
  {
   "cell_type": "code",
   "execution_count": 1,
   "metadata": {},
   "outputs": [
    {
     "name": "stderr",
     "output_type": "stream",
     "text": [
      "/Users/tj225qr/anaconda3/envs/py36/lib/python3.6/site-packages/sklearn/externals/joblib/_multiprocessing_helpers.py:28: UserWarning: [Errno 28] No space left on device.  joblib will operate in serial mode\n",
      "  warnings.warn('%s.  joblib will operate in serial mode' % (e,))\n"
     ]
    }
   ],
   "source": [
    "import nltk"
   ]
  },
  {
   "cell_type": "code",
   "execution_count": 4,
   "metadata": {},
   "outputs": [
    {
     "data": {
      "text/plain": [
       "3"
      ]
     },
     "execution_count": 4,
     "metadata": {},
     "output_type": "execute_result"
    }
   ],
   "source": [
    "nltk.edit_distance(\"har\",\"hurry\")"
   ]
  },
  {
   "cell_type": "code",
   "execution_count": null,
   "metadata": {},
   "outputs": [],
   "source": []
  }
 ],
 "metadata": {
  "kernelspec": {
   "display_name": "Python 3",
   "language": "python",
   "name": "python3"
  },
  "language_info": {
   "codemirror_mode": {
    "name": "ipython",
    "version": 3
   },
   "file_extension": ".py",
   "mimetype": "text/x-python",
   "name": "python",
   "nbconvert_exporter": "python",
   "pygments_lexer": "ipython3",
   "version": "3.6.5"
  }
 },
 "nbformat": 4,
 "nbformat_minor": 1
}
