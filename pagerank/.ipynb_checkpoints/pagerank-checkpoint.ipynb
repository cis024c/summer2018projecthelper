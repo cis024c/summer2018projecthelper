{
 "cells": [
  {
   "cell_type": "markdown",
   "metadata": {},
   "source": [
    "# Simplified Page Rank \n",
    "\n",
    "This project is a simplified version of the Google Page Rank algorithm. The simplified version consists of three steps\n",
    "\n",
    "## Rank pages based on the number of referrals to the page\n",
    "\n",
    "The user builds a graph consisting of all URLs and the set of incoming links to each node (URL) in the graph. The pages are then ranked based on the number of incoming links. \n",
    "\n",
    "## Create an index of all words to pages\n",
    "\n",
    "Traverse all web pages in the graph and build an index of keywords to web pages\n",
    "\n",
    "## Combine rank and index to deliver a search\n",
    "\n",
    "When a search keyword is provided, first search the index to get the list of web pages. Next order the pages based on their rank and provide this result to the user."
   ]
  },
  {
   "cell_type": "markdown",
   "metadata": {},
   "source": [
    "### Get NLTK stopwords"
   ]
  },
  {
   "cell_type": "code",
   "execution_count": 37,
   "metadata": {},
   "outputs": [
    {
     "name": "stdout",
     "output_type": "stream",
     "text": [
      "[nltk_data] Downloading package stopwords to\n",
      "[nltk_data]     /Users/tj225qr/nltk_data...\n",
      "[nltk_data]   Package stopwords is already up-to-date!\n"
     ]
    },
    {
     "data": {
      "text/plain": [
       "True"
      ]
     },
     "execution_count": 37,
     "metadata": {},
     "output_type": "execute_result"
    }
   ],
   "source": [
    "import nltk\n",
    "nltk.download('stopwords')"
   ]
  },
  {
   "cell_type": "markdown",
   "metadata": {},
   "source": [
    "### Get URLs from a web page"
   ]
  },
  {
   "cell_type": "code",
   "execution_count": 18,
   "metadata": {},
   "outputs": [],
   "source": [
    "import urllib"
   ]
  },
  {
   "cell_type": "code",
   "execution_count": 27,
   "metadata": {},
   "outputs": [],
   "source": [
    "# make sure to install bs4 (beautiful soup)\n",
    "# You can use the below command to install\n",
    "# pip install bs4\n",
    "from bs4 import BeautifulSoup\n",
    "import urllib\n",
    "\n",
    "\n",
    "def getURLsList(url):\n",
    "\n",
    "    #resp = urllib3.request.urlopen(url)\n",
    "    resp = urllib.request.urlopen(url)\n",
    "    charset = resp.headers.get_content_charset()\n",
    "    soup = BeautifulSoup(resp, from_encoding=charset)\n",
    "\n",
    "    pages = []\n",
    "    for link in soup.find_all('a', href=True):\n",
    "        page = link['href']\n",
    "        \n",
    "        if page[:4] != \"http\":\n",
    "            page = url + \"/\" + page\n",
    "            \n",
    "        pages.append(page)\n",
    "        \n",
    "    return pages"
   ]
  },
  {
   "cell_type": "markdown",
   "metadata": {},
   "source": [
    "### Get keywords from a web page"
   ]
  },
  {
   "cell_type": "code",
   "execution_count": 31,
   "metadata": {},
   "outputs": [],
   "source": [
    "import urllib3\n",
    "import re\n",
    "from nltk.corpus import stopwords\n",
    "\n",
    "def getKeyWords(url):\n",
    "\n",
    "    resp = urllib.request.urlopen(url)\n",
    "    charset = resp.headers.get_content_charset()\n",
    "    #soup = BeautifulSoup(resp, 'from_encoding=charset')\n",
    "    soup = BeautifulSoup(resp, 'lxml')\n",
    "    \n",
    "    [s.extract() for s in soup(['style', 'script', '[document]', 'head', 'title'])]\n",
    "    visible_text = soup.getText()\n",
    "    \n",
    "    regex = r'(\\w*) '\n",
    "    words = filter(lambda w: w != '',re.findall(regex,visible_text))\n",
    "    \n",
    "    filtered_words = [w for w in words if w not in stopwords.words('english')]\n",
    "    \n",
    "    print(filtered_words)"
   ]
  },
  {
   "cell_type": "code",
   "execution_count": 32,
   "metadata": {},
   "outputs": [
    {
     "name": "stderr",
     "output_type": "stream",
     "text": [
      "/Users/tj225qr/anaconda3/envs/py36/lib/python3.6/site-packages/bs4/__init__.py:181: UserWarning: No parser was explicitly specified, so I'm using the best available HTML parser for this system (\"lxml\"). This usually isn't a problem, but if you run this code on another system, or in a different virtual environment, it may use a different parser and behave differently.\n",
      "\n",
      "The code that caused this warning is on line 193 of the file /Users/tj225qr/anaconda3/envs/py36/lib/python3.6/runpy.py. To get rid of this warning, change code that looks like this:\n",
      "\n",
      " BeautifulSoup(YOUR_MARKUP})\n",
      "\n",
      "to this:\n",
      "\n",
      " BeautifulSoup(YOUR_MARKUP, \"lxml\")\n",
      "\n",
      "  markup_type=markup_type))\n"
     ]
    },
    {
     "data": {
      "text/plain": [
       "['http://www.cnn.com//',\n",
       " 'http://www.cnn.com//',\n",
       " 'http://www.cnn.com//us',\n",
       " 'http://www.cnn.com//world',\n",
       " 'http://www.cnn.com//politics',\n",
       " 'http://money.cnn.com',\n",
       " 'http://www.cnn.com//opinions',\n",
       " 'http://www.cnn.com//health',\n",
       " 'http://www.cnn.com//entertainment',\n",
       " 'http://money.cnn.com/technology',\n",
       " 'http://www.cnn.com//style',\n",
       " 'http://www.cnn.com//travel',\n",
       " 'http://bleacherreport.com',\n",
       " 'http://www.cnn.com//videos',\n",
       " 'http://www.cnn.com//vr',\n",
       " 'http://cnn.it/go2',\n",
       " 'http://www.cnn.com//',\n",
       " 'http://www.cnn.com//us',\n",
       " 'http://www.cnn.com//specials/us/crime-and-justice',\n",
       " 'http://www.cnn.com//specials/us/energy-and-environment',\n",
       " 'http://www.cnn.com//specials/us/extreme-weather',\n",
       " 'http://www.cnn.com//specials/space-science',\n",
       " 'http://www.cnn.com//world',\n",
       " 'http://www.cnn.com//africa',\n",
       " 'http://www.cnn.com//americas',\n",
       " 'http://www.cnn.com//asia',\n",
       " 'http://www.cnn.com//australia',\n",
       " 'http://www.cnn.com//europe',\n",
       " 'http://www.cnn.com//middle-east',\n",
       " 'http://www.cnn.com//uk',\n",
       " 'http://www.cnn.com//politics',\n",
       " 'http://www.cnn.com//specials/politics/president-donald-trump-45',\n",
       " 'http://www.cnn.com//specials/politics/congress-capitol-hill',\n",
       " 'http://www.cnn.com//specials/politics/supreme-court-nine',\n",
       " 'http://www.cnn.com//election',\n",
       " 'http://www.cnn.com//election/2018/key-races',\n",
       " 'http://www.cnn.com//election/2018/primaries',\n",
       " 'http://money.cnn.com',\n",
       " 'http://money.cnn.com/data/markets/',\n",
       " 'http://money.cnn.com/technology/',\n",
       " 'http://money.cnn.com/media/',\n",
       " 'http://money.cnn.com/pf/',\n",
       " 'http://money.cnn.com/luxury/',\n",
       " 'http://www.cnn.com//opinions',\n",
       " 'http://www.cnn.com//specials/opinion/opinion-politics',\n",
       " 'http://www.cnn.com//specials/opinion/opinion-social-issues',\n",
       " 'http://www.cnn.com//health',\n",
       " 'http://www.cnn.com//specials/health/food-diet',\n",
       " 'http://www.cnn.com//specials/health/fitness-excercise',\n",
       " 'http://www.cnn.com//specials/health/wellness',\n",
       " 'http://www.cnn.com//specials/health/parenting',\n",
       " 'http://www.cnn.com//specials/health/vital-signs',\n",
       " 'http://www.cnn.com//entertainment',\n",
       " 'http://www.cnn.com//entertainment/celebrities',\n",
       " 'http://www.cnn.com//entertainment/movies',\n",
       " 'http://www.cnn.com//entertainment/tv-shows',\n",
       " 'http://www.cnn.com//entertainment/culture',\n",
       " 'http://money.cnn.com/media',\n",
       " 'http://money.cnn.com/technology',\n",
       " 'http://money.cnn.com/technology/business',\n",
       " 'http://money.cnn.com/technology/culture',\n",
       " 'http://money.cnn.com/technology/gadgets',\n",
       " 'http://money.cnn.com/technology/future',\n",
       " 'http://money.cnn.com/technology/startups',\n",
       " 'http://www.cnn.com//style',\n",
       " 'http://www.cnn.com//style/arts',\n",
       " 'http://www.cnn.com//style/design',\n",
       " 'http://www.cnn.com//style/fashion',\n",
       " 'http://www.cnn.com//style/architecture',\n",
       " 'http://www.cnn.com//style/luxury',\n",
       " 'http://www.cnn.com//style/autos',\n",
       " 'http://www.cnn.com//style/videos',\n",
       " 'http://www.cnn.com//travel',\n",
       " 'http://www.cnn.com//travel/destinations',\n",
       " 'http://www.cnn.com//travel/food-and-drink',\n",
       " 'http://www.cnn.com//travel/play',\n",
       " 'http://www.cnn.com//travel/stay',\n",
       " 'http://www.cnn.com//travel/videos',\n",
       " 'http://bleacherreport.com',\n",
       " 'http://bleacherreport.com/nfl',\n",
       " 'http://bleacherreport.com/college-football',\n",
       " 'http://bleacherreport.com/nba',\n",
       " 'http://bleacherreport.com/mlb',\n",
       " 'http://bleacherreport.com/world-football',\n",
       " 'http://www.cnn.com//specials/sport/winter-olympics-2018',\n",
       " 'http://www.cnn.com//videos',\n",
       " 'http://www.cnn.com///cnn.it/go2',\n",
       " 'http://www.cnn.com//specials/digital-studios',\n",
       " 'http://www.cnn.com//specials/videos/digital-shorts',\n",
       " 'http://www.cnn.com//specials/videos/hln',\n",
       " 'http://www.cnn.com//tv/schedule/cnn',\n",
       " 'http://www.cnn.com//specials/tv/all-shows',\n",
       " 'http://www.cnn.com//vr',\n",
       " 'http://www.cnn.com///store.cnn.com/?utm_source=cnn.com&utm_medium=referral&utm_campaign=navbar',\n",
       " 'http://www.cnn.com//cnn-underscored/',\n",
       " 'http://www.cnn.com//specials/cnn-underscored/explore/',\n",
       " 'http://www.cnn.com//specials/cnn-underscored/wellness/',\n",
       " 'http://www.cnn.com//specials/cnn-underscored/gadgets/',\n",
       " 'http://www.cnn.com//specials/cnn-underscored/lifestyle/',\n",
       " 'http://www.cnn.com///store.cnn.com/?utm_source=cnn.com&utm_medium=referral&utm_campaign=navbar',\n",
       " 'http://www.cnn.com//vr',\n",
       " 'http://www.cnn.com//2017/03/04/vr/how-to-watch-vr',\n",
       " 'http://www.cnn.com//specials/vr/vr-archives',\n",
       " 'http://www.cnn.com//more',\n",
       " 'http://www.cnn.com//specials/photos',\n",
       " 'http://www.cnn.com//specials/cnn-longform',\n",
       " 'http://www.cnn.com//specials/cnn-investigations',\n",
       " 'http://www.cnn.com//specials/profiles',\n",
       " 'http://www.cnn.com//specials/more/cnn-leadership',\n",
       " 'http://www.cnn.com//email/subscription',\n",
       " 'https://www.turnerjobs.com/search-jobs?orgIds=1174&ac=19299',\n",
       " 'https://www.facebook.com/cnn',\n",
       " 'https://twitter.com/cnn',\n",
       " 'https://instagram.com/cnn',\n",
       " 'http://www.cnn.com//',\n",
       " 'http://www.cnn.com//us',\n",
       " 'http://www.cnn.com//specials/us/crime-and-justice',\n",
       " 'http://www.cnn.com//specials/us/energy-and-environment',\n",
       " 'http://www.cnn.com//specials/us/extreme-weather',\n",
       " 'http://www.cnn.com//specials/space-science',\n",
       " 'http://www.cnn.com//world',\n",
       " 'http://www.cnn.com//africa',\n",
       " 'http://www.cnn.com//americas',\n",
       " 'http://www.cnn.com//asia',\n",
       " 'http://www.cnn.com//australia',\n",
       " 'http://www.cnn.com//europe',\n",
       " 'http://www.cnn.com//middle-east',\n",
       " 'http://www.cnn.com//uk',\n",
       " 'http://www.cnn.com//politics',\n",
       " 'http://www.cnn.com//specials/politics/president-donald-trump-45',\n",
       " 'http://www.cnn.com//specials/politics/congress-capitol-hill',\n",
       " 'http://www.cnn.com//specials/politics/supreme-court-nine',\n",
       " 'http://www.cnn.com//election',\n",
       " 'http://www.cnn.com//election/2018/key-races',\n",
       " 'http://www.cnn.com//election/2018/primaries',\n",
       " 'http://money.cnn.com',\n",
       " 'http://money.cnn.com/data/markets/',\n",
       " 'http://money.cnn.com/technology/',\n",
       " 'http://money.cnn.com/media/',\n",
       " 'http://money.cnn.com/pf/',\n",
       " 'http://money.cnn.com/luxury/',\n",
       " 'http://www.cnn.com//opinions',\n",
       " 'http://www.cnn.com//specials/opinion/opinion-politics',\n",
       " 'http://www.cnn.com//specials/opinion/opinion-social-issues',\n",
       " 'http://www.cnn.com//health',\n",
       " 'http://www.cnn.com//specials/health/food-diet',\n",
       " 'http://www.cnn.com//specials/health/fitness-excercise',\n",
       " 'http://www.cnn.com//specials/health/wellness',\n",
       " 'http://www.cnn.com//specials/health/parenting',\n",
       " 'http://www.cnn.com//specials/health/vital-signs',\n",
       " 'http://www.cnn.com//entertainment',\n",
       " 'http://www.cnn.com//entertainment/celebrities',\n",
       " 'http://www.cnn.com//entertainment/movies',\n",
       " 'http://www.cnn.com//entertainment/tv-shows',\n",
       " 'http://www.cnn.com//entertainment/culture',\n",
       " 'http://money.cnn.com/media',\n",
       " 'http://money.cnn.com/technology',\n",
       " 'http://money.cnn.com/technology/business',\n",
       " 'http://money.cnn.com/technology/culture',\n",
       " 'http://money.cnn.com/technology/gadgets',\n",
       " 'http://money.cnn.com/technology/future',\n",
       " 'http://money.cnn.com/technology/startups',\n",
       " 'http://www.cnn.com//style',\n",
       " 'http://www.cnn.com//style/arts',\n",
       " 'http://www.cnn.com//style/design',\n",
       " 'http://www.cnn.com//style/fashion',\n",
       " 'http://www.cnn.com//style/architecture',\n",
       " 'http://www.cnn.com//style/luxury',\n",
       " 'http://www.cnn.com//style/autos',\n",
       " 'http://www.cnn.com//style/videos',\n",
       " 'http://www.cnn.com//travel',\n",
       " 'http://www.cnn.com//travel/destinations',\n",
       " 'http://www.cnn.com//travel/food-and-drink',\n",
       " 'http://www.cnn.com//travel/play',\n",
       " 'http://www.cnn.com//travel/stay',\n",
       " 'http://www.cnn.com//travel/videos',\n",
       " 'http://bleacherreport.com',\n",
       " 'http://bleacherreport.com/nfl',\n",
       " 'http://bleacherreport.com/college-football',\n",
       " 'http://bleacherreport.com/nba',\n",
       " 'http://bleacherreport.com/mlb',\n",
       " 'http://bleacherreport.com/world-football',\n",
       " 'http://www.cnn.com//specials/sport/winter-olympics-2018',\n",
       " 'http://www.cnn.com//videos',\n",
       " 'http://www.cnn.com///cnn.it/go2',\n",
       " 'http://www.cnn.com//specials/digital-studios',\n",
       " 'http://www.cnn.com//specials/videos/digital-shorts',\n",
       " 'http://www.cnn.com//specials/videos/hln',\n",
       " 'http://www.cnn.com//tv/schedule/cnn',\n",
       " 'http://www.cnn.com//specials/tv/all-shows',\n",
       " 'http://www.cnn.com//vr',\n",
       " 'http://www.cnn.com///store.cnn.com/?utm_source=cnn.com&utm_medium=referral&utm_campaign=navbar',\n",
       " 'http://www.cnn.com//cnn-underscored/',\n",
       " 'http://www.cnn.com//specials/cnn-underscored/explore/',\n",
       " 'http://www.cnn.com//specials/cnn-underscored/wellness/',\n",
       " 'http://www.cnn.com//specials/cnn-underscored/gadgets/',\n",
       " 'http://www.cnn.com//specials/cnn-underscored/lifestyle/',\n",
       " 'http://www.cnn.com///store.cnn.com/?utm_source=cnn.com&utm_medium=referral&utm_campaign=navbar',\n",
       " 'http://www.cnn.com//vr',\n",
       " 'http://www.cnn.com//2017/03/04/vr/how-to-watch-vr',\n",
       " 'http://www.cnn.com//specials/vr/vr-archives',\n",
       " 'http://www.cnn.com//more',\n",
       " 'http://www.cnn.com//specials/photos',\n",
       " 'http://www.cnn.com//specials/cnn-longform',\n",
       " 'http://www.cnn.com//specials/cnn-investigations',\n",
       " 'http://www.cnn.com//specials/profiles',\n",
       " 'http://www.cnn.com//specials/more/cnn-leadership',\n",
       " 'http://www.cnn.com//email/subscription',\n",
       " 'https://www.turnerjobs.com/search-jobs?orgIds=1174&ac=19299',\n",
       " 'http://www.cnn.com//',\n",
       " 'http://www.turner.com',\n",
       " 'http://www.cnn.com//terms',\n",
       " 'http://www.cnn.com//privacy',\n",
       " 'http://www.cnn.com//accessibility',\n",
       " 'http://www.cnn.com/#',\n",
       " 'http://www.cnn.com//about',\n",
       " 'http://www.cnn.com///tours.cnn.com',\n",
       " 'http://www.cnn.com///store.cnn.com',\n",
       " 'http://www.cnn.com//newsletters',\n",
       " 'http://www.cnn.com//transcripts',\n",
       " 'http://www.cnn.com///collection.cnn.com',\n",
       " 'http://cnnnewsource.com']"
      ]
     },
     "execution_count": 32,
     "metadata": {},
     "output_type": "execute_result"
    }
   ],
   "source": [
    "getURLsList(\"http://www.cnn.com\")"
   ]
  },
  {
   "cell_type": "markdown",
   "metadata": {},
   "source": [
    "### Get a list of all web pages and their corresponding keywords"
   ]
  },
  {
   "cell_type": "code",
   "execution_count": 36,
   "metadata": {},
   "outputs": [
    {
     "name": "stdout",
     "output_type": "stream",
     "text": [
      "['Breaking', 'WorldPoliticsMoneyOpinionHealthEntertainmentTechStyleTravelSportsVideoVRLive', 'TV', 'Search', 'InternationalArabicEspañolSet', 'edition', 'InternationalArabicEspañolSet', 'edition', 'Crime', 'JusticeEnergy', 'EnvironmentExtreme', 'WeatherSpace', 'ScienceWorldAfricaAmericasAsiaAustraliaEuropeMiddle', 'EastUK45CongressSupreme', 'Court2018Key', 'RacesPrimary', 'ResultsMarketsTechMediaPersonal', 'FinanceLuxuryOpinionPolitical', 'EdsSocial', 'CommentaryFoodFitnessWellnessParentingVital', 'SignsStarsScreenBingeCultureMediaBusinessCultureGadgetsFutureStartupsArtsDesignFashionArchitectureLuxuryAutosVideoDestinationsFood', 'DrinkPlayStayVideosPro', 'FootballCollege', 'FootballBasketballBaseballSoccerOlympicsVideoLive', 'TV', 'Digital', 'StudiosCNN', 'FilmsHLNTV', 'ScheduleTV', 'Shows', 'ZCNNVRShopCNN', 'LifestyleCNN', 'StoreHow', 'To', 'Watch', 'PhotosLongformInvestigationsCNN', 'profilesCNN', 'LeadershipCNN', 'NewslettersWork', 'InternationalEspañolArabicSet', 'edition', 'InternationalConfirmFacebookTwitterInstagram', 'Crime', 'JusticeEnergy', 'EnvironmentExtreme', 'WeatherSpace', 'ScienceWorldAfricaAmericasAsiaAustraliaEuropeMiddle', 'EastUK45CongressSupreme', 'Court2018Key', 'RacesPrimary', 'ResultsMarketsTechMediaPersonal', 'FinanceLuxuryOpinionPolitical', 'EdsSocial', 'CommentaryFoodFitnessWellnessParentingVital', 'SignsStarsScreenBingeCultureMediaBusinessCultureGadgetsFutureStartupsArtsDesignFashionArchitectureLuxuryAutosVideoDestinationsFood', 'DrinkPlayStayVideosPro', 'FootballCollege', 'FootballBasketballBaseballSoccerOlympicsVideoLive', 'TV', 'Digital', 'StudiosCNN', 'FilmsHLNTV', 'ScheduleTV', 'Shows', 'ZCNNVRShopCNN', 'LifestyleCNN', 'StoreHow', 'To', 'Watch', 'PhotosLongformInvestigationsCNN', 'profilesCNN', 'LeadershipCNN', 'NewslettersWork', 'EditionSet', 'edition', 'Terms', 'UsePrivacy', 'PolicyAccessibility', 'CCAdChoicesAbout', 'usCNN', 'Studio', 'ToursCNN', 'StoreNewslettersTranscriptsLicense', 'FootageCNN']\n"
     ]
    }
   ],
   "source": [
    "getKeyWords(\"http://www.cnn.com\")"
   ]
  },
  {
   "cell_type": "code",
   "execution_count": 35,
   "metadata": {},
   "outputs": [
    {
     "name": "stdout",
     "output_type": "stream",
     "text": [
      "[nltk_data] Downloading package stopwords to\n",
      "[nltk_data]     /Users/tj225qr/nltk_data...\n",
      "[nltk_data]   Unzipping corpora/stopwords.zip.\n"
     ]
    },
    {
     "data": {
      "text/plain": [
       "True"
      ]
     },
     "execution_count": 35,
     "metadata": {},
     "output_type": "execute_result"
    }
   ],
   "source": [
    "import nltk\n",
    "nltk.download('stopwords')"
   ]
  }
 ],
 "metadata": {
  "kernelspec": {
   "display_name": "Python 3",
   "language": "python",
   "name": "python3"
  },
  "language_info": {
   "codemirror_mode": {
    "name": "ipython",
    "version": 3
   },
   "file_extension": ".py",
   "mimetype": "text/x-python",
   "name": "python",
   "nbconvert_exporter": "python",
   "pygments_lexer": "ipython3",
   "version": "3.6.5"
  }
 },
 "nbformat": 4,
 "nbformat_minor": 1
}
